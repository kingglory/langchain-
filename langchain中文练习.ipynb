{
  "nbformat": 4,
  "nbformat_minor": 0,
  "metadata": {
    "colab": {
      "provenance": [],
      "authorship_tag": "ABX9TyOCAjep0sXfNdoWCB7DJ/it",
      "include_colab_link": true
    },
    "kernelspec": {
      "name": "python3",
      "display_name": "Python 3"
    },
    "language_info": {
      "name": "python"
    }
  },
  "cells": [
    {
      "cell_type": "markdown",
      "metadata": {
        "id": "view-in-github",
        "colab_type": "text"
      },
      "source": [
        "<a href=\"https://colab.research.google.com/github/kingglory/langchain-chinese-learning/blob/main/langchain%E4%B8%AD%E6%96%87%E7%BB%83%E4%B9%A0.ipynb\" target=\"_parent\"><img src=\"https://colab.research.google.com/assets/colab-badge.svg\" alt=\"Open In Colab\"/></a>"
      ]
    },
    {
      "cell_type": "markdown",
      "source": [
        "## install packages"
      ],
      "metadata": {
        "id": "Sn6LHPV2QAsO"
      }
    },
    {
      "cell_type": "code",
      "source": [
        "pip install openai"
      ],
      "metadata": {
        "colab": {
          "base_uri": "https://localhost:8080/"
        },
        "id": "DvGtqWYUH4jG",
        "outputId": "2763944c-4e9e-435c-981c-5fb7067a0d07"
      },
      "execution_count": 5,
      "outputs": [
        {
          "output_type": "stream",
          "name": "stdout",
          "text": [
            "Looking in indexes: https://pypi.org/simple, https://us-python.pkg.dev/colab-wheels/public/simple/\n",
            "Collecting openai\n",
            "  Downloading openai-0.27.7-py3-none-any.whl (71 kB)\n",
            "\u001b[2K     \u001b[90m━━━━━━━━━━━━━━━━━━━━━━━━━━━━━━━━━━━━━━━━\u001b[0m \u001b[32m72.0/72.0 kB\u001b[0m \u001b[31m3.8 MB/s\u001b[0m eta \u001b[36m0:00:00\u001b[0m\n",
            "\u001b[?25hRequirement already satisfied: requests>=2.20 in /usr/local/lib/python3.10/dist-packages (from openai) (2.27.1)\n",
            "Requirement already satisfied: tqdm in /usr/local/lib/python3.10/dist-packages (from openai) (4.65.0)\n",
            "Requirement already satisfied: aiohttp in /usr/local/lib/python3.10/dist-packages (from openai) (3.8.4)\n",
            "Requirement already satisfied: urllib3<1.27,>=1.21.1 in /usr/local/lib/python3.10/dist-packages (from requests>=2.20->openai) (1.26.15)\n",
            "Requirement already satisfied: certifi>=2017.4.17 in /usr/local/lib/python3.10/dist-packages (from requests>=2.20->openai) (2022.12.7)\n",
            "Requirement already satisfied: charset-normalizer~=2.0.0 in /usr/local/lib/python3.10/dist-packages (from requests>=2.20->openai) (2.0.12)\n",
            "Requirement already satisfied: idna<4,>=2.5 in /usr/local/lib/python3.10/dist-packages (from requests>=2.20->openai) (3.4)\n",
            "Requirement already satisfied: attrs>=17.3.0 in /usr/local/lib/python3.10/dist-packages (from aiohttp->openai) (23.1.0)\n",
            "Requirement already satisfied: multidict<7.0,>=4.5 in /usr/local/lib/python3.10/dist-packages (from aiohttp->openai) (6.0.4)\n",
            "Requirement already satisfied: async-timeout<5.0,>=4.0.0a3 in /usr/local/lib/python3.10/dist-packages (from aiohttp->openai) (4.0.2)\n",
            "Requirement already satisfied: yarl<2.0,>=1.0 in /usr/local/lib/python3.10/dist-packages (from aiohttp->openai) (1.9.2)\n",
            "Requirement already satisfied: frozenlist>=1.1.1 in /usr/local/lib/python3.10/dist-packages (from aiohttp->openai) (1.3.3)\n",
            "Requirement already satisfied: aiosignal>=1.1.2 in /usr/local/lib/python3.10/dist-packages (from aiohttp->openai) (1.3.1)\n",
            "Installing collected packages: openai\n",
            "Successfully installed openai-0.27.7\n"
          ]
        }
      ]
    },
    {
      "cell_type": "code",
      "source": [
        "pip install google-search-results"
      ],
      "metadata": {
        "colab": {
          "base_uri": "https://localhost:8080/"
        },
        "id": "4paqFMrJL0ox",
        "outputId": "862d12f7-b34f-4293-c952-d3beea1f647d"
      },
      "execution_count": 14,
      "outputs": [
        {
          "output_type": "stream",
          "name": "stdout",
          "text": [
            "Looking in indexes: https://pypi.org/simple, https://us-python.pkg.dev/colab-wheels/public/simple/\n",
            "Collecting google-search-results\n",
            "  Downloading google_search_results-2.4.2.tar.gz (18 kB)\n",
            "  Preparing metadata (setup.py) ... \u001b[?25l\u001b[?25hdone\n",
            "Requirement already satisfied: requests in /usr/local/lib/python3.10/dist-packages (from google-search-results) (2.27.1)\n",
            "Requirement already satisfied: urllib3<1.27,>=1.21.1 in /usr/local/lib/python3.10/dist-packages (from requests->google-search-results) (1.26.15)\n",
            "Requirement already satisfied: certifi>=2017.4.17 in /usr/local/lib/python3.10/dist-packages (from requests->google-search-results) (2022.12.7)\n",
            "Requirement already satisfied: charset-normalizer~=2.0.0 in /usr/local/lib/python3.10/dist-packages (from requests->google-search-results) (2.0.12)\n",
            "Requirement already satisfied: idna<4,>=2.5 in /usr/local/lib/python3.10/dist-packages (from requests->google-search-results) (3.4)\n",
            "Building wheels for collected packages: google-search-results\n",
            "  Building wheel for google-search-results (setup.py) ... \u001b[?25l\u001b[?25hdone\n",
            "  Created wheel for google-search-results: filename=google_search_results-2.4.2-py3-none-any.whl size=32002 sha256=e6bc6f9637f2edd4f2a7c99637967805f799771e4f73e68cf9e9a63d6f7dcd6b\n",
            "  Stored in directory: /root/.cache/pip/wheels/d3/b2/c3/03302d12bb44a2cdff3c9371f31b72c0c4e84b8d2285eeac53\n",
            "Successfully built google-search-results\n",
            "Installing collected packages: google-search-results\n",
            "Successfully installed google-search-results-2.4.2\n"
          ]
        }
      ]
    },
    {
      "cell_type": "code",
      "source": [
        "pip install unstructured"
      ],
      "metadata": {
        "colab": {
          "base_uri": "https://localhost:8080/"
        },
        "id": "0TJ0lBZtPmpu",
        "outputId": "1ac6d682-b858-43a0-f407-0c7ca7c5fedb"
      },
      "execution_count": 18,
      "outputs": [
        {
          "output_type": "stream",
          "name": "stdout",
          "text": [
            "Looking in indexes: https://pypi.org/simple, https://us-python.pkg.dev/colab-wheels/public/simple/\n",
            "Collecting unstructured\n",
            "  Downloading unstructured-0.7.1-py3-none-any.whl (1.3 MB)\n",
            "\u001b[2K     \u001b[90m━━━━━━━━━━━━━━━━━━━━━━━━━━━━━━━━━━━━━━━━\u001b[0m \u001b[32m1.3/1.3 MB\u001b[0m \u001b[31m25.9 MB/s\u001b[0m eta \u001b[36m0:00:00\u001b[0m\n",
            "\u001b[?25hCollecting argilla (from unstructured)\n",
            "  Downloading argilla-1.8.0-py3-none-any.whl (2.4 MB)\n",
            "\u001b[2K     \u001b[90m━━━━━━━━━━━━━━━━━━━━━━━━━━━━━━━━━━━━━━━━\u001b[0m \u001b[32m2.4/2.4 MB\u001b[0m \u001b[31m66.4 MB/s\u001b[0m eta \u001b[36m0:00:00\u001b[0m\n",
            "\u001b[?25hRequirement already satisfied: chardet in /usr/local/lib/python3.10/dist-packages (from unstructured) (4.0.0)\n",
            "Requirement already satisfied: lxml in /usr/local/lib/python3.10/dist-packages (from unstructured) (4.9.2)\n",
            "Collecting msg-parser (from unstructured)\n",
            "  Downloading msg_parser-1.2.0-py2.py3-none-any.whl (101 kB)\n",
            "\u001b[2K     \u001b[90m━━━━━━━━━━━━━━━━━━━━━━━━━━━━━━━━━━━━━━\u001b[0m \u001b[32m101.8/101.8 kB\u001b[0m \u001b[31m12.1 MB/s\u001b[0m eta \u001b[36m0:00:00\u001b[0m\n",
            "\u001b[?25hRequirement already satisfied: nltk in /usr/local/lib/python3.10/dist-packages (from unstructured) (3.8.1)\n",
            "Requirement already satisfied: openpyxl in /usr/local/lib/python3.10/dist-packages (from unstructured) (3.0.10)\n",
            "Requirement already satisfied: pandas in /usr/local/lib/python3.10/dist-packages (from unstructured) (1.5.3)\n",
            "Collecting pdfminer.six (from unstructured)\n",
            "  Downloading pdfminer.six-20221105-py3-none-any.whl (5.6 MB)\n",
            "\u001b[2K     \u001b[90m━━━━━━━━━━━━━━━━━━━━━━━━━━━━━━━━━━━━━━━━\u001b[0m \u001b[32m5.6/5.6 MB\u001b[0m \u001b[31m99.4 MB/s\u001b[0m eta \u001b[36m0:00:00\u001b[0m\n",
            "\u001b[?25hRequirement already satisfied: pillow in /usr/local/lib/python3.10/dist-packages (from unstructured) (8.4.0)\n",
            "Collecting pypandoc (from unstructured)\n",
            "  Downloading pypandoc-1.11-py3-none-any.whl (20 kB)\n",
            "Collecting python-docx (from unstructured)\n",
            "  Downloading python-docx-0.8.11.tar.gz (5.6 MB)\n",
            "\u001b[2K     \u001b[90m━━━━━━━━━━━━━━━━━━━━━━━━━━━━━━━━━━━━━━━━\u001b[0m \u001b[32m5.6/5.6 MB\u001b[0m \u001b[31m93.7 MB/s\u001b[0m eta \u001b[36m0:00:00\u001b[0m\n",
            "\u001b[?25h  Preparing metadata (setup.py) ... \u001b[?25l\u001b[?25hdone\n",
            "Collecting python-pptx (from unstructured)\n",
            "  Downloading python-pptx-0.6.21.tar.gz (10.1 MB)\n",
            "\u001b[2K     \u001b[90m━━━━━━━━━━━━━━━━━━━━━━━━━━━━━━━━━━━━━━━━\u001b[0m \u001b[32m10.1/10.1 MB\u001b[0m \u001b[31m96.3 MB/s\u001b[0m eta \u001b[36m0:00:00\u001b[0m\n",
            "\u001b[?25h  Preparing metadata (setup.py) ... \u001b[?25l\u001b[?25hdone\n",
            "Collecting python-magic (from unstructured)\n",
            "  Downloading python_magic-0.4.27-py2.py3-none-any.whl (13 kB)\n",
            "Requirement already satisfied: markdown in /usr/local/lib/python3.10/dist-packages (from unstructured) (3.4.3)\n",
            "Requirement already satisfied: requests in /usr/local/lib/python3.10/dist-packages (from unstructured) (2.27.1)\n",
            "Requirement already satisfied: xlrd in /usr/local/lib/python3.10/dist-packages (from unstructured) (2.0.1)\n",
            "Collecting httpx<0.24,>=0.15 (from argilla->unstructured)\n",
            "  Downloading httpx-0.23.3-py3-none-any.whl (71 kB)\n",
            "\u001b[2K     \u001b[90m━━━━━━━━━━━━━━━━━━━━━━━━━━━━━━━━━━━━━━━━\u001b[0m \u001b[32m71.5/71.5 kB\u001b[0m \u001b[31m8.0 MB/s\u001b[0m eta \u001b[36m0:00:00\u001b[0m\n",
            "\u001b[?25hCollecting deprecated~=1.2.0 (from argilla->unstructured)\n",
            "  Downloading Deprecated-1.2.14-py2.py3-none-any.whl (9.6 kB)\n",
            "Requirement already satisfied: packaging>=20.0 in /usr/local/lib/python3.10/dist-packages (from argilla->unstructured) (23.1)\n",
            "Requirement already satisfied: pydantic>=1.10.7 in /usr/local/lib/python3.10/dist-packages (from argilla->unstructured) (1.10.7)\n",
            "Requirement already satisfied: wrapt<1.15,>=1.13 in /usr/local/lib/python3.10/dist-packages (from argilla->unstructured) (1.14.1)\n",
            "Requirement already satisfied: numpy<1.24.0 in /usr/local/lib/python3.10/dist-packages (from argilla->unstructured) (1.22.4)\n",
            "Requirement already satisfied: tqdm>=4.27.0 in /usr/local/lib/python3.10/dist-packages (from argilla->unstructured) (4.65.0)\n",
            "Collecting backoff (from argilla->unstructured)\n",
            "  Downloading backoff-2.2.1-py3-none-any.whl (15 kB)\n",
            "Collecting monotonic (from argilla->unstructured)\n",
            "  Downloading monotonic-1.6-py2.py3-none-any.whl (8.2 kB)\n",
            "Collecting rich<=13.0.1 (from argilla->unstructured)\n",
            "  Downloading rich-13.0.1-py3-none-any.whl (238 kB)\n",
            "\u001b[2K     \u001b[90m━━━━━━━━━━━━━━━━━━━━━━━━━━━━━━━━━━━━━━\u001b[0m \u001b[32m238.1/238.1 kB\u001b[0m \u001b[31m22.5 MB/s\u001b[0m eta \u001b[36m0:00:00\u001b[0m\n",
            "\u001b[?25hRequirement already satisfied: typer<1.0.0,>=0.6.0 in /usr/local/lib/python3.10/dist-packages (from argilla->unstructured) (0.7.0)\n",
            "Requirement already satisfied: python-dateutil>=2.8.1 in /usr/local/lib/python3.10/dist-packages (from pandas->unstructured) (2.8.2)\n",
            "Requirement already satisfied: pytz>=2020.1 in /usr/local/lib/python3.10/dist-packages (from pandas->unstructured) (2022.7.1)\n",
            "Collecting olefile>=0.46 (from msg-parser->unstructured)\n",
            "  Downloading olefile-0.46.zip (112 kB)\n",
            "\u001b[2K     \u001b[90m━━━━━━━━━━━━━━━━━━━━━━━━━━━━━━━━━━━━━━\u001b[0m \u001b[32m112.2/112.2 kB\u001b[0m \u001b[31m12.7 MB/s\u001b[0m eta \u001b[36m0:00:00\u001b[0m\n",
            "\u001b[?25h  Preparing metadata (setup.py) ... \u001b[?25l\u001b[?25hdone\n",
            "Requirement already satisfied: click in /usr/local/lib/python3.10/dist-packages (from nltk->unstructured) (8.1.3)\n",
            "Requirement already satisfied: joblib in /usr/local/lib/python3.10/dist-packages (from nltk->unstructured) (1.2.0)\n",
            "Requirement already satisfied: regex>=2021.8.3 in /usr/local/lib/python3.10/dist-packages (from nltk->unstructured) (2022.10.31)\n",
            "Requirement already satisfied: et-xmlfile in /usr/local/lib/python3.10/dist-packages (from openpyxl->unstructured) (1.1.0)\n",
            "Requirement already satisfied: charset-normalizer>=2.0.0 in /usr/local/lib/python3.10/dist-packages (from pdfminer.six->unstructured) (2.0.12)\n",
            "Requirement already satisfied: cryptography>=36.0.0 in /usr/local/lib/python3.10/dist-packages (from pdfminer.six->unstructured) (40.0.2)\n",
            "Collecting XlsxWriter>=0.5.7 (from python-pptx->unstructured)\n",
            "  Downloading XlsxWriter-3.1.2-py3-none-any.whl (153 kB)\n",
            "\u001b[2K     \u001b[90m━━━━━━━━━━━━━━━━━━━━━━━━━━━━━━━━━━━━━━\u001b[0m \u001b[32m153.0/153.0 kB\u001b[0m \u001b[31m15.1 MB/s\u001b[0m eta \u001b[36m0:00:00\u001b[0m\n",
            "\u001b[?25hRequirement already satisfied: urllib3<1.27,>=1.21.1 in /usr/local/lib/python3.10/dist-packages (from requests->unstructured) (1.26.15)\n",
            "Requirement already satisfied: certifi>=2017.4.17 in /usr/local/lib/python3.10/dist-packages (from requests->unstructured) (2022.12.7)\n",
            "Requirement already satisfied: idna<4,>=2.5 in /usr/local/lib/python3.10/dist-packages (from requests->unstructured) (3.4)\n",
            "Requirement already satisfied: cffi>=1.12 in /usr/local/lib/python3.10/dist-packages (from cryptography>=36.0.0->pdfminer.six->unstructured) (1.15.1)\n",
            "Collecting httpcore<0.17.0,>=0.15.0 (from httpx<0.24,>=0.15->argilla->unstructured)\n",
            "  Downloading httpcore-0.16.3-py3-none-any.whl (69 kB)\n",
            "\u001b[2K     \u001b[90m━━━━━━━━━━━━━━━━━━━━━━━━━━━━━━━━━━━━━━━━\u001b[0m \u001b[32m69.6/69.6 kB\u001b[0m \u001b[31m8.2 MB/s\u001b[0m eta \u001b[36m0:00:00\u001b[0m\n",
            "\u001b[?25hCollecting rfc3986[idna2008]<2,>=1.3 (from httpx<0.24,>=0.15->argilla->unstructured)\n",
            "  Downloading rfc3986-1.5.0-py2.py3-none-any.whl (31 kB)\n",
            "Requirement already satisfied: sniffio in /usr/local/lib/python3.10/dist-packages (from httpx<0.24,>=0.15->argilla->unstructured) (1.3.0)\n",
            "Requirement already satisfied: typing-extensions>=4.2.0 in /usr/local/lib/python3.10/dist-packages (from pydantic>=1.10.7->argilla->unstructured) (4.5.0)\n",
            "Requirement already satisfied: six>=1.5 in /usr/local/lib/python3.10/dist-packages (from python-dateutil>=2.8.1->pandas->unstructured) (1.16.0)\n",
            "Collecting commonmark<0.10.0,>=0.9.0 (from rich<=13.0.1->argilla->unstructured)\n",
            "  Downloading commonmark-0.9.1-py2.py3-none-any.whl (51 kB)\n",
            "\u001b[2K     \u001b[90m━━━━━━━━━━━━━━━━━━━━━━━━━━━━━━━━━━━━━━━━\u001b[0m \u001b[32m51.1/51.1 kB\u001b[0m \u001b[31m6.5 MB/s\u001b[0m eta \u001b[36m0:00:00\u001b[0m\n",
            "\u001b[?25hRequirement already satisfied: pygments<3.0.0,>=2.6.0 in /usr/local/lib/python3.10/dist-packages (from rich<=13.0.1->argilla->unstructured) (2.14.0)\n",
            "Requirement already satisfied: pycparser in /usr/local/lib/python3.10/dist-packages (from cffi>=1.12->cryptography>=36.0.0->pdfminer.six->unstructured) (2.21)\n",
            "Collecting h11<0.15,>=0.13 (from httpcore<0.17.0,>=0.15.0->httpx<0.24,>=0.15->argilla->unstructured)\n",
            "  Downloading h11-0.14.0-py3-none-any.whl (58 kB)\n",
            "\u001b[2K     \u001b[90m━━━━━━━━━━━━━━━━━━━━━━━━━━━━━━━━━━━━━━━━\u001b[0m \u001b[32m58.3/58.3 kB\u001b[0m \u001b[31m5.1 MB/s\u001b[0m eta \u001b[36m0:00:00\u001b[0m\n",
            "\u001b[?25hRequirement already satisfied: anyio<5.0,>=3.0 in /usr/local/lib/python3.10/dist-packages (from httpcore<0.17.0,>=0.15.0->httpx<0.24,>=0.15->argilla->unstructured) (3.6.2)\n",
            "Building wheels for collected packages: python-docx, python-pptx, olefile\n",
            "  Building wheel for python-docx (setup.py) ... \u001b[?25l\u001b[?25hdone\n",
            "  Created wheel for python-docx: filename=python_docx-0.8.11-py3-none-any.whl size=184491 sha256=bba9132725a4d6420d8fd6b7b7743ff6ad8ef05ad81cd1fd42c8ea10828345ce\n",
            "  Stored in directory: /root/.cache/pip/wheels/80/27/06/837436d4c3bd989b957a91679966f207bfd71d358d63a8194d\n",
            "  Building wheel for python-pptx (setup.py) ... \u001b[?25l\u001b[?25hdone\n",
            "  Created wheel for python-pptx: filename=python_pptx-0.6.21-py3-none-any.whl size=470935 sha256=f6bd94c8ce633df47a218cb3a0538c49717bdb139f032e5dbb08c2d2c23fc8e9\n",
            "  Stored in directory: /root/.cache/pip/wheels/ea/dd/74/01b3ec7256a0800b99384e9a0f7620e358afc3a51a59bf9b49\n",
            "  Building wheel for olefile (setup.py) ... \u001b[?25l\u001b[?25hdone\n",
            "  Created wheel for olefile: filename=olefile-0.46-py2.py3-none-any.whl size=35417 sha256=15e55cb73747592c5f26adc9bea0a90f12255fa86620536b7f7917ffb0f13930\n",
            "  Stored in directory: /root/.cache/pip/wheels/02/39/c0/9eb1f7a42b4b38f6f333b6314d4ed11c46f12a0f7b78194f0d\n",
            "Successfully built python-docx python-pptx olefile\n",
            "Installing collected packages: rfc3986, monotonic, commonmark, XlsxWriter, rich, python-magic, python-docx, pypandoc, olefile, h11, deprecated, backoff, python-pptx, msg-parser, httpcore, pdfminer.six, httpx, argilla, unstructured\n",
            "  Attempting uninstall: rich\n",
            "    Found existing installation: rich 13.3.4\n",
            "    Uninstalling rich-13.3.4:\n",
            "      Successfully uninstalled rich-13.3.4\n",
            "Successfully installed XlsxWriter-3.1.2 argilla-1.8.0 backoff-2.2.1 commonmark-0.9.1 deprecated-1.2.14 h11-0.14.0 httpcore-0.16.3 httpx-0.23.3 monotonic-1.6 msg-parser-1.2.0 olefile-0.46 pdfminer.six-20221105 pypandoc-1.11 python-docx-0.8.11 python-magic-0.4.27 python-pptx-0.6.21 rfc3986-1.5.0 rich-13.0.1 unstructured-0.7.1\n"
          ]
        }
      ]
    },
    {
      "cell_type": "code",
      "source": [
        "pip install pdf2image"
      ],
      "metadata": {
        "colab": {
          "base_uri": "https://localhost:8080/"
        },
        "id": "WflVF1-0P6IO",
        "outputId": "5e8c6381-80f1-4840-adcc-dfd28de59494"
      },
      "execution_count": 20,
      "outputs": [
        {
          "output_type": "stream",
          "name": "stdout",
          "text": [
            "Looking in indexes: https://pypi.org/simple, https://us-python.pkg.dev/colab-wheels/public/simple/\n",
            "Collecting pdf2image\n",
            "  Downloading pdf2image-1.16.3-py3-none-any.whl (11 kB)\n",
            "Requirement already satisfied: pillow in /usr/local/lib/python3.10/dist-packages (from pdf2image) (8.4.0)\n",
            "Installing collected packages: pdf2image\n",
            "Successfully installed pdf2image-1.16.3\n"
          ]
        }
      ]
    },
    {
      "cell_type": "code",
      "source": [
        "!pip install langchain\n",
        "!pip install openai\n",
        "!pip install google-search-results\n",
        "!pip install unstructured\n",
        "!pip install chromadb\n",
        "!pip install pinecone-client\n",
        "!pip install youtube-transcript-api\n",
        "!pip install pytube"
      ],
      "metadata": {
        "colab": {
          "base_uri": "https://localhost:8080/",
          "height": 1000
        },
        "id": "3H9xQW4sHqpG",
        "outputId": "a2f4cace-0f2f-4a9e-8ac6-c92e1dc61b9b"
      },
      "execution_count": 22,
      "outputs": [
        {
          "output_type": "stream",
          "name": "stdout",
          "text": [
            "Looking in indexes: https://pypi.org/simple, https://us-python.pkg.dev/colab-wheels/public/simple/\n",
            "Requirement already satisfied: langchain in /usr/local/lib/python3.10/dist-packages (0.0.188)\n",
            "Requirement already satisfied: PyYAML>=5.4.1 in /usr/local/lib/python3.10/dist-packages (from langchain) (6.0)\n",
            "Requirement already satisfied: SQLAlchemy<3,>=1.4 in /usr/local/lib/python3.10/dist-packages (from langchain) (2.0.10)\n",
            "Requirement already satisfied: aiohttp<4.0.0,>=3.8.3 in /usr/local/lib/python3.10/dist-packages (from langchain) (3.8.4)\n",
            "Requirement already satisfied: async-timeout<5.0.0,>=4.0.0 in /usr/local/lib/python3.10/dist-packages (from langchain) (4.0.2)\n",
            "Requirement already satisfied: dataclasses-json<0.6.0,>=0.5.7 in /usr/local/lib/python3.10/dist-packages (from langchain) (0.5.7)\n",
            "Requirement already satisfied: numexpr<3.0.0,>=2.8.4 in /usr/local/lib/python3.10/dist-packages (from langchain) (2.8.4)\n",
            "Requirement already satisfied: numpy<2,>=1 in /usr/local/lib/python3.10/dist-packages (from langchain) (1.22.4)\n",
            "Requirement already satisfied: openapi-schema-pydantic<2.0,>=1.2 in /usr/local/lib/python3.10/dist-packages (from langchain) (1.2.4)\n",
            "Requirement already satisfied: pydantic<2,>=1 in /usr/local/lib/python3.10/dist-packages (from langchain) (1.10.7)\n",
            "Requirement already satisfied: requests<3,>=2 in /usr/local/lib/python3.10/dist-packages (from langchain) (2.27.1)\n",
            "Requirement already satisfied: tenacity<9.0.0,>=8.1.0 in /usr/local/lib/python3.10/dist-packages (from langchain) (8.2.2)\n",
            "Requirement already satisfied: attrs>=17.3.0 in /usr/local/lib/python3.10/dist-packages (from aiohttp<4.0.0,>=3.8.3->langchain) (23.1.0)\n",
            "Requirement already satisfied: charset-normalizer<4.0,>=2.0 in /usr/local/lib/python3.10/dist-packages (from aiohttp<4.0.0,>=3.8.3->langchain) (2.0.12)\n",
            "Requirement already satisfied: multidict<7.0,>=4.5 in /usr/local/lib/python3.10/dist-packages (from aiohttp<4.0.0,>=3.8.3->langchain) (6.0.4)\n",
            "Requirement already satisfied: yarl<2.0,>=1.0 in /usr/local/lib/python3.10/dist-packages (from aiohttp<4.0.0,>=3.8.3->langchain) (1.9.2)\n",
            "Requirement already satisfied: frozenlist>=1.1.1 in /usr/local/lib/python3.10/dist-packages (from aiohttp<4.0.0,>=3.8.3->langchain) (1.3.3)\n",
            "Requirement already satisfied: aiosignal>=1.1.2 in /usr/local/lib/python3.10/dist-packages (from aiohttp<4.0.0,>=3.8.3->langchain) (1.3.1)\n",
            "Requirement already satisfied: marshmallow<4.0.0,>=3.3.0 in /usr/local/lib/python3.10/dist-packages (from dataclasses-json<0.6.0,>=0.5.7->langchain) (3.19.0)\n",
            "Requirement already satisfied: marshmallow-enum<2.0.0,>=1.5.1 in /usr/local/lib/python3.10/dist-packages (from dataclasses-json<0.6.0,>=0.5.7->langchain) (1.5.1)\n",
            "Requirement already satisfied: typing-inspect>=0.4.0 in /usr/local/lib/python3.10/dist-packages (from dataclasses-json<0.6.0,>=0.5.7->langchain) (0.9.0)\n",
            "Requirement already satisfied: typing-extensions>=4.2.0 in /usr/local/lib/python3.10/dist-packages (from pydantic<2,>=1->langchain) (4.5.0)\n",
            "Requirement already satisfied: urllib3<1.27,>=1.21.1 in /usr/local/lib/python3.10/dist-packages (from requests<3,>=2->langchain) (1.26.15)\n",
            "Requirement already satisfied: certifi>=2017.4.17 in /usr/local/lib/python3.10/dist-packages (from requests<3,>=2->langchain) (2022.12.7)\n",
            "Requirement already satisfied: idna<4,>=2.5 in /usr/local/lib/python3.10/dist-packages (from requests<3,>=2->langchain) (3.4)\n",
            "Requirement already satisfied: greenlet!=0.4.17 in /usr/local/lib/python3.10/dist-packages (from SQLAlchemy<3,>=1.4->langchain) (2.0.2)\n",
            "Requirement already satisfied: packaging>=17.0 in /usr/local/lib/python3.10/dist-packages (from marshmallow<4.0.0,>=3.3.0->dataclasses-json<0.6.0,>=0.5.7->langchain) (23.1)\n",
            "Requirement already satisfied: mypy-extensions>=0.3.0 in /usr/local/lib/python3.10/dist-packages (from typing-inspect>=0.4.0->dataclasses-json<0.6.0,>=0.5.7->langchain) (1.0.0)\n",
            "Looking in indexes: https://pypi.org/simple, https://us-python.pkg.dev/colab-wheels/public/simple/\n",
            "Requirement already satisfied: openai in /usr/local/lib/python3.10/dist-packages (0.27.7)\n",
            "Requirement already satisfied: requests>=2.20 in /usr/local/lib/python3.10/dist-packages (from openai) (2.27.1)\n",
            "Requirement already satisfied: tqdm in /usr/local/lib/python3.10/dist-packages (from openai) (4.65.0)\n",
            "Requirement already satisfied: aiohttp in /usr/local/lib/python3.10/dist-packages (from openai) (3.8.4)\n",
            "Requirement already satisfied: urllib3<1.27,>=1.21.1 in /usr/local/lib/python3.10/dist-packages (from requests>=2.20->openai) (1.26.15)\n",
            "Requirement already satisfied: certifi>=2017.4.17 in /usr/local/lib/python3.10/dist-packages (from requests>=2.20->openai) (2022.12.7)\n",
            "Requirement already satisfied: charset-normalizer~=2.0.0 in /usr/local/lib/python3.10/dist-packages (from requests>=2.20->openai) (2.0.12)\n",
            "Requirement already satisfied: idna<4,>=2.5 in /usr/local/lib/python3.10/dist-packages (from requests>=2.20->openai) (3.4)\n",
            "Requirement already satisfied: attrs>=17.3.0 in /usr/local/lib/python3.10/dist-packages (from aiohttp->openai) (23.1.0)\n",
            "Requirement already satisfied: multidict<7.0,>=4.5 in /usr/local/lib/python3.10/dist-packages (from aiohttp->openai) (6.0.4)\n",
            "Requirement already satisfied: async-timeout<5.0,>=4.0.0a3 in /usr/local/lib/python3.10/dist-packages (from aiohttp->openai) (4.0.2)\n",
            "Requirement already satisfied: yarl<2.0,>=1.0 in /usr/local/lib/python3.10/dist-packages (from aiohttp->openai) (1.9.2)\n",
            "Requirement already satisfied: frozenlist>=1.1.1 in /usr/local/lib/python3.10/dist-packages (from aiohttp->openai) (1.3.3)\n",
            "Requirement already satisfied: aiosignal>=1.1.2 in /usr/local/lib/python3.10/dist-packages (from aiohttp->openai) (1.3.1)\n",
            "Looking in indexes: https://pypi.org/simple, https://us-python.pkg.dev/colab-wheels/public/simple/\n",
            "Requirement already satisfied: google-search-results in /usr/local/lib/python3.10/dist-packages (2.4.2)\n",
            "Requirement already satisfied: requests in /usr/local/lib/python3.10/dist-packages (from google-search-results) (2.27.1)\n",
            "Requirement already satisfied: urllib3<1.27,>=1.21.1 in /usr/local/lib/python3.10/dist-packages (from requests->google-search-results) (1.26.15)\n",
            "Requirement already satisfied: certifi>=2017.4.17 in /usr/local/lib/python3.10/dist-packages (from requests->google-search-results) (2022.12.7)\n",
            "Requirement already satisfied: charset-normalizer~=2.0.0 in /usr/local/lib/python3.10/dist-packages (from requests->google-search-results) (2.0.12)\n",
            "Requirement already satisfied: idna<4,>=2.5 in /usr/local/lib/python3.10/dist-packages (from requests->google-search-results) (3.4)\n",
            "Looking in indexes: https://pypi.org/simple, https://us-python.pkg.dev/colab-wheels/public/simple/\n",
            "Requirement already satisfied: unstructured in /usr/local/lib/python3.10/dist-packages (0.7.1)\n",
            "Requirement already satisfied: argilla in /usr/local/lib/python3.10/dist-packages (from unstructured) (1.8.0)\n",
            "Requirement already satisfied: chardet in /usr/local/lib/python3.10/dist-packages (from unstructured) (4.0.0)\n",
            "Requirement already satisfied: lxml in /usr/local/lib/python3.10/dist-packages (from unstructured) (4.9.2)\n",
            "Requirement already satisfied: msg-parser in /usr/local/lib/python3.10/dist-packages (from unstructured) (1.2.0)\n",
            "Requirement already satisfied: nltk in /usr/local/lib/python3.10/dist-packages (from unstructured) (3.8.1)\n",
            "Requirement already satisfied: openpyxl in /usr/local/lib/python3.10/dist-packages (from unstructured) (3.0.10)\n",
            "Requirement already satisfied: pandas in /usr/local/lib/python3.10/dist-packages (from unstructured) (1.5.3)\n",
            "Requirement already satisfied: pdfminer.six in /usr/local/lib/python3.10/dist-packages (from unstructured) (20221105)\n",
            "Requirement already satisfied: pillow in /usr/local/lib/python3.10/dist-packages (from unstructured) (8.4.0)\n",
            "Requirement already satisfied: pypandoc in /usr/local/lib/python3.10/dist-packages (from unstructured) (1.11)\n",
            "Requirement already satisfied: python-docx in /usr/local/lib/python3.10/dist-packages (from unstructured) (0.8.11)\n",
            "Requirement already satisfied: python-pptx in /usr/local/lib/python3.10/dist-packages (from unstructured) (0.6.21)\n",
            "Requirement already satisfied: python-magic in /usr/local/lib/python3.10/dist-packages (from unstructured) (0.4.27)\n",
            "Requirement already satisfied: markdown in /usr/local/lib/python3.10/dist-packages (from unstructured) (3.4.3)\n",
            "Requirement already satisfied: requests in /usr/local/lib/python3.10/dist-packages (from unstructured) (2.27.1)\n",
            "Requirement already satisfied: xlrd in /usr/local/lib/python3.10/dist-packages (from unstructured) (2.0.1)\n",
            "Requirement already satisfied: httpx<0.24,>=0.15 in /usr/local/lib/python3.10/dist-packages (from argilla->unstructured) (0.23.3)\n",
            "Requirement already satisfied: deprecated~=1.2.0 in /usr/local/lib/python3.10/dist-packages (from argilla->unstructured) (1.2.14)\n",
            "Requirement already satisfied: packaging>=20.0 in /usr/local/lib/python3.10/dist-packages (from argilla->unstructured) (23.1)\n",
            "Requirement already satisfied: pydantic>=1.10.7 in /usr/local/lib/python3.10/dist-packages (from argilla->unstructured) (1.10.7)\n",
            "Requirement already satisfied: wrapt<1.15,>=1.13 in /usr/local/lib/python3.10/dist-packages (from argilla->unstructured) (1.14.1)\n",
            "Requirement already satisfied: numpy<1.24.0 in /usr/local/lib/python3.10/dist-packages (from argilla->unstructured) (1.22.4)\n",
            "Requirement already satisfied: tqdm>=4.27.0 in /usr/local/lib/python3.10/dist-packages (from argilla->unstructured) (4.65.0)\n",
            "Requirement already satisfied: backoff in /usr/local/lib/python3.10/dist-packages (from argilla->unstructured) (2.2.1)\n",
            "Requirement already satisfied: monotonic in /usr/local/lib/python3.10/dist-packages (from argilla->unstructured) (1.6)\n",
            "Requirement already satisfied: rich<=13.0.1 in /usr/local/lib/python3.10/dist-packages (from argilla->unstructured) (13.0.1)\n",
            "Requirement already satisfied: typer<1.0.0,>=0.6.0 in /usr/local/lib/python3.10/dist-packages (from argilla->unstructured) (0.7.0)\n",
            "Requirement already satisfied: python-dateutil>=2.8.1 in /usr/local/lib/python3.10/dist-packages (from pandas->unstructured) (2.8.2)\n",
            "Requirement already satisfied: pytz>=2020.1 in /usr/local/lib/python3.10/dist-packages (from pandas->unstructured) (2022.7.1)\n",
            "Requirement already satisfied: olefile>=0.46 in /usr/local/lib/python3.10/dist-packages (from msg-parser->unstructured) (0.46)\n",
            "Requirement already satisfied: click in /usr/local/lib/python3.10/dist-packages (from nltk->unstructured) (8.1.3)\n",
            "Requirement already satisfied: joblib in /usr/local/lib/python3.10/dist-packages (from nltk->unstructured) (1.2.0)\n",
            "Requirement already satisfied: regex>=2021.8.3 in /usr/local/lib/python3.10/dist-packages (from nltk->unstructured) (2022.10.31)\n",
            "Requirement already satisfied: et-xmlfile in /usr/local/lib/python3.10/dist-packages (from openpyxl->unstructured) (1.1.0)\n",
            "Requirement already satisfied: charset-normalizer>=2.0.0 in /usr/local/lib/python3.10/dist-packages (from pdfminer.six->unstructured) (2.0.12)\n",
            "Requirement already satisfied: cryptography>=36.0.0 in /usr/local/lib/python3.10/dist-packages (from pdfminer.six->unstructured) (40.0.2)\n",
            "Requirement already satisfied: XlsxWriter>=0.5.7 in /usr/local/lib/python3.10/dist-packages (from python-pptx->unstructured) (3.1.2)\n",
            "Requirement already satisfied: urllib3<1.27,>=1.21.1 in /usr/local/lib/python3.10/dist-packages (from requests->unstructured) (1.26.15)\n",
            "Requirement already satisfied: certifi>=2017.4.17 in /usr/local/lib/python3.10/dist-packages (from requests->unstructured) (2022.12.7)\n",
            "Requirement already satisfied: idna<4,>=2.5 in /usr/local/lib/python3.10/dist-packages (from requests->unstructured) (3.4)\n",
            "Requirement already satisfied: cffi>=1.12 in /usr/local/lib/python3.10/dist-packages (from cryptography>=36.0.0->pdfminer.six->unstructured) (1.15.1)\n",
            "Requirement already satisfied: httpcore<0.17.0,>=0.15.0 in /usr/local/lib/python3.10/dist-packages (from httpx<0.24,>=0.15->argilla->unstructured) (0.16.3)\n",
            "Requirement already satisfied: rfc3986[idna2008]<2,>=1.3 in /usr/local/lib/python3.10/dist-packages (from httpx<0.24,>=0.15->argilla->unstructured) (1.5.0)\n",
            "Requirement already satisfied: sniffio in /usr/local/lib/python3.10/dist-packages (from httpx<0.24,>=0.15->argilla->unstructured) (1.3.0)\n",
            "Requirement already satisfied: typing-extensions>=4.2.0 in /usr/local/lib/python3.10/dist-packages (from pydantic>=1.10.7->argilla->unstructured) (4.5.0)\n",
            "Requirement already satisfied: six>=1.5 in /usr/local/lib/python3.10/dist-packages (from python-dateutil>=2.8.1->pandas->unstructured) (1.16.0)\n",
            "Requirement already satisfied: commonmark<0.10.0,>=0.9.0 in /usr/local/lib/python3.10/dist-packages (from rich<=13.0.1->argilla->unstructured) (0.9.1)\n",
            "Requirement already satisfied: pygments<3.0.0,>=2.6.0 in /usr/local/lib/python3.10/dist-packages (from rich<=13.0.1->argilla->unstructured) (2.14.0)\n",
            "Requirement already satisfied: pycparser in /usr/local/lib/python3.10/dist-packages (from cffi>=1.12->cryptography>=36.0.0->pdfminer.six->unstructured) (2.21)\n",
            "Requirement already satisfied: h11<0.15,>=0.13 in /usr/local/lib/python3.10/dist-packages (from httpcore<0.17.0,>=0.15.0->httpx<0.24,>=0.15->argilla->unstructured) (0.14.0)\n",
            "Requirement already satisfied: anyio<5.0,>=3.0 in /usr/local/lib/python3.10/dist-packages (from httpcore<0.17.0,>=0.15.0->httpx<0.24,>=0.15->argilla->unstructured) (3.6.2)\n",
            "Looking in indexes: https://pypi.org/simple, https://us-python.pkg.dev/colab-wheels/public/simple/\n",
            "Collecting chromadb\n",
            "  Downloading chromadb-0.3.25-py3-none-any.whl (86 kB)\n",
            "\u001b[2K     \u001b[90m━━━━━━━━━━━━━━━━━━━━━━━━━━━━━━━━━━━━━━━━\u001b[0m \u001b[32m86.6/86.6 kB\u001b[0m \u001b[31m4.0 MB/s\u001b[0m eta \u001b[36m0:00:00\u001b[0m\n",
            "\u001b[?25hRequirement already satisfied: pandas>=1.3 in /usr/local/lib/python3.10/dist-packages (from chromadb) (1.5.3)\n",
            "Collecting requests>=2.28 (from chromadb)\n",
            "  Downloading requests-2.31.0-py3-none-any.whl (62 kB)\n",
            "\u001b[2K     \u001b[90m━━━━━━━━━━━━━━━━━━━━━━━━━━━━━━━━━━━━━━━━\u001b[0m \u001b[32m62.6/62.6 kB\u001b[0m \u001b[31m7.6 MB/s\u001b[0m eta \u001b[36m0:00:00\u001b[0m\n",
            "\u001b[?25hRequirement already satisfied: pydantic>=1.9 in /usr/local/lib/python3.10/dist-packages (from chromadb) (1.10.7)\n",
            "Collecting hnswlib>=0.7 (from chromadb)\n",
            "  Downloading hnswlib-0.7.0.tar.gz (33 kB)\n",
            "  Installing build dependencies ... \u001b[?25l\u001b[?25hdone\n",
            "  Getting requirements to build wheel ... \u001b[?25l\u001b[?25hdone\n",
            "  Preparing metadata (pyproject.toml) ... \u001b[?25l\u001b[?25hdone\n",
            "Collecting clickhouse-connect>=0.5.7 (from chromadb)\n",
            "  Downloading clickhouse_connect-0.5.25-cp310-cp310-manylinux_2_17_x86_64.manylinux2014_x86_64.whl (922 kB)\n",
            "\u001b[2K     \u001b[90m━━━━━━━━━━━━━━━━━━━━━━━━━━━━━━━━━━━━━━\u001b[0m \u001b[32m922.7/922.7 kB\u001b[0m \u001b[31m30.2 MB/s\u001b[0m eta \u001b[36m0:00:00\u001b[0m\n",
            "\u001b[?25hRequirement already satisfied: duckdb>=0.7.1 in /usr/local/lib/python3.10/dist-packages (from chromadb) (0.7.1)\n",
            "Collecting fastapi>=0.85.1 (from chromadb)\n",
            "  Downloading fastapi-0.95.2-py3-none-any.whl (56 kB)\n",
            "\u001b[2K     \u001b[90m━━━━━━━━━━━━━━━━━━━━━━━━━━━━━━━━━━━━━━━━\u001b[0m \u001b[32m57.0/57.0 kB\u001b[0m \u001b[31m4.1 MB/s\u001b[0m eta \u001b[36m0:00:00\u001b[0m\n",
            "\u001b[?25hCollecting uvicorn[standard]>=0.18.3 (from chromadb)\n",
            "  Downloading uvicorn-0.22.0-py3-none-any.whl (58 kB)\n",
            "\u001b[2K     \u001b[90m━━━━━━━━━━━━━━━━━━━━━━━━━━━━━━━━━━━━━━━━\u001b[0m \u001b[32m58.3/58.3 kB\u001b[0m \u001b[31m7.0 MB/s\u001b[0m eta \u001b[36m0:00:00\u001b[0m\n",
            "\u001b[?25hRequirement already satisfied: numpy>=1.21.6 in /usr/local/lib/python3.10/dist-packages (from chromadb) (1.22.4)\n",
            "Collecting posthog>=2.4.0 (from chromadb)\n",
            "  Downloading posthog-3.0.1-py2.py3-none-any.whl (37 kB)\n",
            "Collecting onnxruntime>=1.14.1 (from chromadb)\n",
            "  Downloading onnxruntime-1.15.0-cp310-cp310-manylinux_2_17_x86_64.manylinux2014_x86_64.whl (5.9 MB)\n",
            "\u001b[2K     \u001b[90m━━━━━━━━━━━━━━━━━━━━━━━━━━━━━━━━━━━━━━━━\u001b[0m \u001b[32m5.9/5.9 MB\u001b[0m \u001b[31m46.7 MB/s\u001b[0m eta \u001b[36m0:00:00\u001b[0m\n",
            "\u001b[?25hCollecting tokenizers>=0.13.2 (from chromadb)\n",
            "  Downloading tokenizers-0.13.3-cp310-cp310-manylinux_2_17_x86_64.manylinux2014_x86_64.whl (7.8 MB)\n",
            "\u001b[2K     \u001b[90m━━━━━━━━━━━━━━━━━━━━━━━━━━━━━━━━━━━━━━━━\u001b[0m \u001b[32m7.8/7.8 MB\u001b[0m \u001b[31m101.0 MB/s\u001b[0m eta \u001b[36m0:00:00\u001b[0m\n",
            "\u001b[?25hRequirement already satisfied: tqdm>=4.65.0 in /usr/local/lib/python3.10/dist-packages (from chromadb) (4.65.0)\n",
            "Requirement already satisfied: typing-extensions>=4.5.0 in /usr/local/lib/python3.10/dist-packages (from chromadb) (4.5.0)\n",
            "Collecting overrides>=7.3.1 (from chromadb)\n",
            "  Downloading overrides-7.3.1-py3-none-any.whl (17 kB)\n",
            "Requirement already satisfied: certifi in /usr/local/lib/python3.10/dist-packages (from clickhouse-connect>=0.5.7->chromadb) (2022.12.7)\n",
            "Requirement already satisfied: urllib3>=1.26 in /usr/local/lib/python3.10/dist-packages (from clickhouse-connect>=0.5.7->chromadb) (1.26.15)\n",
            "Requirement already satisfied: pytz in /usr/local/lib/python3.10/dist-packages (from clickhouse-connect>=0.5.7->chromadb) (2022.7.1)\n",
            "Collecting zstandard (from clickhouse-connect>=0.5.7->chromadb)\n",
            "  Downloading zstandard-0.21.0-cp310-cp310-manylinux_2_17_x86_64.manylinux2014_x86_64.whl (2.7 MB)\n",
            "\u001b[2K     \u001b[90m━━━━━━━━━━━━━━━━━━━━━━━━━━━━━━━━━━━━━━━━\u001b[0m \u001b[32m2.7/2.7 MB\u001b[0m \u001b[31m74.9 MB/s\u001b[0m eta \u001b[36m0:00:00\u001b[0m\n",
            "\u001b[?25hCollecting lz4 (from clickhouse-connect>=0.5.7->chromadb)\n",
            "  Downloading lz4-4.3.2-cp310-cp310-manylinux_2_17_x86_64.manylinux2014_x86_64.whl (1.3 MB)\n",
            "\u001b[2K     \u001b[90m━━━━━━━━━━━━━━━━━━━━━━━━━━━━━━━━━━━━━━━━\u001b[0m \u001b[32m1.3/1.3 MB\u001b[0m \u001b[31m55.5 MB/s\u001b[0m eta \u001b[36m0:00:00\u001b[0m\n",
            "\u001b[?25hCollecting starlette<0.28.0,>=0.27.0 (from fastapi>=0.85.1->chromadb)\n",
            "  Downloading starlette-0.27.0-py3-none-any.whl (66 kB)\n",
            "\u001b[2K     \u001b[90m━━━━━━━━━━━━━━━━━━━━━━━━━━━━━━━━━━━━━━━━\u001b[0m \u001b[32m67.0/67.0 kB\u001b[0m \u001b[31m8.1 MB/s\u001b[0m eta \u001b[36m0:00:00\u001b[0m\n",
            "\u001b[?25hCollecting coloredlogs (from onnxruntime>=1.14.1->chromadb)\n",
            "  Downloading coloredlogs-15.0.1-py2.py3-none-any.whl (46 kB)\n",
            "\u001b[2K     \u001b[90m━━━━━━━━━━━━━━━━━━━━━━━━━━━━━━━━━━━━━━━━\u001b[0m \u001b[32m46.0/46.0 kB\u001b[0m \u001b[31m5.3 MB/s\u001b[0m eta \u001b[36m0:00:00\u001b[0m\n",
            "\u001b[?25hRequirement already satisfied: flatbuffers in /usr/local/lib/python3.10/dist-packages (from onnxruntime>=1.14.1->chromadb) (23.3.3)\n",
            "Requirement already satisfied: packaging in /usr/local/lib/python3.10/dist-packages (from onnxruntime>=1.14.1->chromadb) (23.1)\n",
            "Requirement already satisfied: protobuf in /usr/local/lib/python3.10/dist-packages (from onnxruntime>=1.14.1->chromadb) (3.20.3)\n",
            "Requirement already satisfied: sympy in /usr/local/lib/python3.10/dist-packages (from onnxruntime>=1.14.1->chromadb) (1.11.1)\n",
            "Requirement already satisfied: python-dateutil>=2.8.1 in /usr/local/lib/python3.10/dist-packages (from pandas>=1.3->chromadb) (2.8.2)\n",
            "Requirement already satisfied: six>=1.5 in /usr/local/lib/python3.10/dist-packages (from posthog>=2.4.0->chromadb) (1.16.0)\n",
            "Requirement already satisfied: monotonic>=1.5 in /usr/local/lib/python3.10/dist-packages (from posthog>=2.4.0->chromadb) (1.6)\n",
            "Requirement already satisfied: backoff>=1.10.0 in /usr/local/lib/python3.10/dist-packages (from posthog>=2.4.0->chromadb) (2.2.1)\n",
            "Requirement already satisfied: charset-normalizer<4,>=2 in /usr/local/lib/python3.10/dist-packages (from requests>=2.28->chromadb) (2.0.12)\n",
            "Requirement already satisfied: idna<4,>=2.5 in /usr/local/lib/python3.10/dist-packages (from requests>=2.28->chromadb) (3.4)\n",
            "Requirement already satisfied: click>=7.0 in /usr/local/lib/python3.10/dist-packages (from uvicorn[standard]>=0.18.3->chromadb) (8.1.3)\n",
            "Requirement already satisfied: h11>=0.8 in /usr/local/lib/python3.10/dist-packages (from uvicorn[standard]>=0.18.3->chromadb) (0.14.0)\n",
            "Collecting httptools>=0.5.0 (from uvicorn[standard]>=0.18.3->chromadb)\n",
            "  Downloading httptools-0.5.0-cp310-cp310-manylinux_2_5_x86_64.manylinux1_x86_64.manylinux_2_17_x86_64.manylinux2014_x86_64.whl (414 kB)\n",
            "\u001b[2K     \u001b[90m━━━━━━━━━━━━━━━━━━━━━━━━━━━━━━━━━━━━━━\u001b[0m \u001b[32m414.1/414.1 kB\u001b[0m \u001b[31m37.1 MB/s\u001b[0m eta \u001b[36m0:00:00\u001b[0m\n",
            "\u001b[?25hCollecting python-dotenv>=0.13 (from uvicorn[standard]>=0.18.3->chromadb)\n",
            "  Downloading python_dotenv-1.0.0-py3-none-any.whl (19 kB)\n",
            "Requirement already satisfied: pyyaml>=5.1 in /usr/local/lib/python3.10/dist-packages (from uvicorn[standard]>=0.18.3->chromadb) (6.0)\n",
            "Collecting uvloop!=0.15.0,!=0.15.1,>=0.14.0 (from uvicorn[standard]>=0.18.3->chromadb)\n",
            "  Downloading uvloop-0.17.0-cp310-cp310-manylinux_2_17_x86_64.manylinux2014_x86_64.whl (4.1 MB)\n",
            "\u001b[2K     \u001b[90m━━━━━━━━━━━━━━━━━━━━━━━━━━━━━━━━━━━━━━━━\u001b[0m \u001b[32m4.1/4.1 MB\u001b[0m \u001b[31m100.2 MB/s\u001b[0m eta \u001b[36m0:00:00\u001b[0m\n",
            "\u001b[?25hCollecting watchfiles>=0.13 (from uvicorn[standard]>=0.18.3->chromadb)\n",
            "  Downloading watchfiles-0.19.0-cp37-abi3-manylinux_2_17_x86_64.manylinux2014_x86_64.whl (1.3 MB)\n",
            "\u001b[2K     \u001b[90m━━━━━━━━━━━━━━━━━━━━━━━━━━━━━━━━━━━━━━━━\u001b[0m \u001b[32m1.3/1.3 MB\u001b[0m \u001b[31m66.9 MB/s\u001b[0m eta \u001b[36m0:00:00\u001b[0m\n",
            "\u001b[?25hCollecting websockets>=10.4 (from uvicorn[standard]>=0.18.3->chromadb)\n",
            "  Downloading websockets-11.0.3-cp310-cp310-manylinux_2_5_x86_64.manylinux1_x86_64.manylinux_2_17_x86_64.manylinux2014_x86_64.whl (129 kB)\n",
            "\u001b[2K     \u001b[90m━━━━━━━━━━━━━━━━━━━━━━━━━━━━━━━━━━━━━━\u001b[0m \u001b[32m129.9/129.9 kB\u001b[0m \u001b[31m13.9 MB/s\u001b[0m eta \u001b[36m0:00:00\u001b[0m\n",
            "\u001b[?25hRequirement already satisfied: anyio<5,>=3.4.0 in /usr/local/lib/python3.10/dist-packages (from starlette<0.28.0,>=0.27.0->fastapi>=0.85.1->chromadb) (3.6.2)\n",
            "Collecting humanfriendly>=9.1 (from coloredlogs->onnxruntime>=1.14.1->chromadb)\n",
            "  Downloading humanfriendly-10.0-py2.py3-none-any.whl (86 kB)\n",
            "\u001b[2K     \u001b[90m━━━━━━━━━━━━━━━━━━━━━━━━━━━━━━━━━━━━━━━━\u001b[0m \u001b[32m86.8/86.8 kB\u001b[0m \u001b[31m10.1 MB/s\u001b[0m eta \u001b[36m0:00:00\u001b[0m\n",
            "\u001b[?25hRequirement already satisfied: mpmath>=0.19 in /usr/local/lib/python3.10/dist-packages (from sympy->onnxruntime>=1.14.1->chromadb) (1.3.0)\n",
            "Requirement already satisfied: sniffio>=1.1 in /usr/local/lib/python3.10/dist-packages (from anyio<5,>=3.4.0->starlette<0.28.0,>=0.27.0->fastapi>=0.85.1->chromadb) (1.3.0)\n",
            "Building wheels for collected packages: hnswlib\n",
            "  Building wheel for hnswlib (pyproject.toml) ... \u001b[?25l\u001b[?25hdone\n",
            "  Created wheel for hnswlib: filename=hnswlib-0.7.0-cp310-cp310-linux_x86_64.whl size=2119889 sha256=51feec9a4e0df4930e3f46388267595a456ceac654dd1fb424802e2642818440\n",
            "  Stored in directory: /root/.cache/pip/wheels/8a/ae/ec/235a682e0041fbaeee389843670581ec6c66872db856dfa9a4\n",
            "Successfully built hnswlib\n",
            "Installing collected packages: tokenizers, zstandard, websockets, uvloop, uvicorn, requests, python-dotenv, overrides, lz4, humanfriendly, httptools, hnswlib, watchfiles, starlette, posthog, coloredlogs, clickhouse-connect, onnxruntime, fastapi, chromadb\n",
            "  Attempting uninstall: requests\n",
            "    Found existing installation: requests 2.27.1\n",
            "    Uninstalling requests-2.27.1:\n",
            "      Successfully uninstalled requests-2.27.1\n",
            "\u001b[31mERROR: pip's dependency resolver does not currently take into account all the packages that are installed. This behaviour is the source of the following dependency conflicts.\n",
            "google-colab 1.0.0 requires requests==2.27.1, but you have requests 2.31.0 which is incompatible.\u001b[0m\u001b[31m\n",
            "\u001b[0mSuccessfully installed chromadb-0.3.25 clickhouse-connect-0.5.25 coloredlogs-15.0.1 fastapi-0.95.2 hnswlib-0.7.0 httptools-0.5.0 humanfriendly-10.0 lz4-4.3.2 onnxruntime-1.15.0 overrides-7.3.1 posthog-3.0.1 python-dotenv-1.0.0 requests-2.31.0 starlette-0.27.0 tokenizers-0.13.3 uvicorn-0.22.0 uvloop-0.17.0 watchfiles-0.19.0 websockets-11.0.3 zstandard-0.21.0\n"
          ]
        },
        {
          "output_type": "display_data",
          "data": {
            "application/vnd.colab-display-data+json": {
              "pip_warning": {
                "packages": [
                  "requests"
                ]
              }
            }
          },
          "metadata": {}
        },
        {
          "output_type": "stream",
          "name": "stdout",
          "text": [
            "Looking in indexes: https://pypi.org/simple, https://us-python.pkg.dev/colab-wheels/public/simple/\n",
            "Collecting pinecone-client\n",
            "  Downloading pinecone_client-2.2.1-py3-none-any.whl (177 kB)\n",
            "\u001b[2K     \u001b[90m━━━━━━━━━━━━━━━━━━━━━━━━━━━━━━━━━━━━━━━\u001b[0m \u001b[32m177.2/177.2 kB\u001b[0m \u001b[31m7.8 MB/s\u001b[0m eta \u001b[36m0:00:00\u001b[0m\n",
            "\u001b[?25hRequirement already satisfied: requests>=2.19.0 in /usr/local/lib/python3.10/dist-packages (from pinecone-client) (2.31.0)\n",
            "Requirement already satisfied: pyyaml>=5.4 in /usr/local/lib/python3.10/dist-packages (from pinecone-client) (6.0)\n",
            "Collecting loguru>=0.5.0 (from pinecone-client)\n",
            "  Downloading loguru-0.7.0-py3-none-any.whl (59 kB)\n",
            "\u001b[2K     \u001b[90m━━━━━━━━━━━━━━━━━━━━━━━━━━━━━━━━━━━━━━━━\u001b[0m \u001b[32m60.0/60.0 kB\u001b[0m \u001b[31m6.9 MB/s\u001b[0m eta \u001b[36m0:00:00\u001b[0m\n",
            "\u001b[?25hRequirement already satisfied: typing-extensions>=3.7.4 in /usr/local/lib/python3.10/dist-packages (from pinecone-client) (4.5.0)\n",
            "Collecting dnspython>=2.0.0 (from pinecone-client)\n",
            "  Downloading dnspython-2.3.0-py3-none-any.whl (283 kB)\n",
            "\u001b[2K     \u001b[90m━━━━━━━━━━━━━━━━━━━━━━━━━━━━━━━━━━━━━━\u001b[0m \u001b[32m283.7/283.7 kB\u001b[0m \u001b[31m21.9 MB/s\u001b[0m eta \u001b[36m0:00:00\u001b[0m\n",
            "\u001b[?25hRequirement already satisfied: python-dateutil>=2.5.3 in /usr/local/lib/python3.10/dist-packages (from pinecone-client) (2.8.2)\n",
            "Requirement already satisfied: urllib3>=1.21.1 in /usr/local/lib/python3.10/dist-packages (from pinecone-client) (1.26.15)\n",
            "Requirement already satisfied: tqdm>=4.64.1 in /usr/local/lib/python3.10/dist-packages (from pinecone-client) (4.65.0)\n",
            "Requirement already satisfied: numpy in /usr/local/lib/python3.10/dist-packages (from pinecone-client) (1.22.4)\n",
            "Requirement already satisfied: six>=1.5 in /usr/local/lib/python3.10/dist-packages (from python-dateutil>=2.5.3->pinecone-client) (1.16.0)\n",
            "Requirement already satisfied: charset-normalizer<4,>=2 in /usr/local/lib/python3.10/dist-packages (from requests>=2.19.0->pinecone-client) (2.0.12)\n",
            "Requirement already satisfied: idna<4,>=2.5 in /usr/local/lib/python3.10/dist-packages (from requests>=2.19.0->pinecone-client) (3.4)\n",
            "Requirement already satisfied: certifi>=2017.4.17 in /usr/local/lib/python3.10/dist-packages (from requests>=2.19.0->pinecone-client) (2022.12.7)\n",
            "Installing collected packages: loguru, dnspython, pinecone-client\n",
            "Successfully installed dnspython-2.3.0 loguru-0.7.0 pinecone-client-2.2.1\n",
            "Looking in indexes: https://pypi.org/simple, https://us-python.pkg.dev/colab-wheels/public/simple/\n",
            "Collecting youtube-transcript-api\n",
            "  Downloading youtube_transcript_api-0.6.0-py3-none-any.whl (23 kB)\n",
            "Requirement already satisfied: requests in /usr/local/lib/python3.10/dist-packages (from youtube-transcript-api) (2.31.0)\n",
            "Requirement already satisfied: charset-normalizer<4,>=2 in /usr/local/lib/python3.10/dist-packages (from requests->youtube-transcript-api) (2.0.12)\n",
            "Requirement already satisfied: idna<4,>=2.5 in /usr/local/lib/python3.10/dist-packages (from requests->youtube-transcript-api) (3.4)\n",
            "Requirement already satisfied: urllib3<3,>=1.21.1 in /usr/local/lib/python3.10/dist-packages (from requests->youtube-transcript-api) (1.26.15)\n",
            "Requirement already satisfied: certifi>=2017.4.17 in /usr/local/lib/python3.10/dist-packages (from requests->youtube-transcript-api) (2022.12.7)\n",
            "Installing collected packages: youtube-transcript-api\n",
            "Successfully installed youtube-transcript-api-0.6.0\n",
            "Looking in indexes: https://pypi.org/simple, https://us-python.pkg.dev/colab-wheels/public/simple/\n",
            "Collecting pytube\n",
            "  Downloading pytube-15.0.0-py3-none-any.whl (57 kB)\n",
            "\u001b[2K     \u001b[90m━━━━━━━━━━━━━━━━━━━━━━━━━━━━━━━━━━━━━━━━\u001b[0m \u001b[32m57.6/57.6 kB\u001b[0m \u001b[31m4.3 MB/s\u001b[0m eta \u001b[36m0:00:00\u001b[0m\n",
            "\u001b[?25hInstalling collected packages: pytube\n",
            "Successfully installed pytube-15.0.0\n"
          ]
        }
      ]
    },
    {
      "cell_type": "markdown",
      "source": [
        "-----  "
      ],
      "metadata": {
        "id": "mOe36vwTP97G"
      }
    },
    {
      "cell_type": "code",
      "execution_count": 1,
      "metadata": {
        "id": "8HYaEK3BHVMA"
      },
      "outputs": [],
      "source": [
        "import os\n",
        "os.environ[\"OPENAI_API_KEY\"] = 'sk-'"
      ]
    },
    {
      "cell_type": "code",
      "source": [
        "from langchain.llms import OpenAI\n",
        "\n",
        "llm = OpenAI(model_name=\"text-davinci-003\",max_tokens=1024)\n",
        "llm(\"怎么评价人工智能\")"
      ],
      "metadata": {
        "id": "ds6ElokYHlmc"
      },
      "execution_count": null,
      "outputs": []
    },
    {
      "cell_type": "markdown",
      "source": [
        "## 通过 Google 搜索并返回答案"
      ],
      "metadata": {
        "id": "ST0fkE0SOcUw"
      }
    },
    {
      "cell_type": "markdown",
      "source": [
        "接下来，我们就来搞点有意思的。我们来让我们的 OpenAI api 联网搜索，并返回答案给我们。\n",
        "这里我们需要借助 Serpapi 来进行实现，Serpapi 提供了 google 搜索的 api 接口。\n",
        "首先需要我们到 Serpapi 官网上注册一个用户，https://serpapi.com/ 并复制他给我们生成 api key。\n",
        "然后我们需要像上面的 openai api key 一样设置到环境变量里面去。"
      ],
      "metadata": {
        "id": "ytyprGLVMxsQ"
      }
    },
    {
      "cell_type": "code",
      "source": [
        "os.environ[\"SERPAPI_API_KEY\"] = '3fdf'"
      ],
      "metadata": {
        "id": "O0m4WkUgKmkr"
      },
      "execution_count": 10,
      "outputs": []
    },
    {
      "cell_type": "code",
      "source": [
        "import langchain\n",
        "print(dir(langchain.llms))"
      ],
      "metadata": {
        "colab": {
          "base_uri": "https://localhost:8080/"
        },
        "id": "oy-gBwr2KwbG",
        "outputId": "16e04686-90c7-492b-d5db-6e22bb614b84"
      },
      "execution_count": 12,
      "outputs": [
        {
          "output_type": "stream",
          "name": "stdout",
          "text": [
            "['AI21', 'AlephAlpha', 'Anthropic', 'Anyscale', 'AzureOpenAI', 'Banana', 'BaseLLM', 'Beam', 'Bedrock', 'CTransformers', 'CerebriumAI', 'Cohere', 'Databricks', 'DeepInfra', 'Dict', 'FakeListLLM', 'ForefrontAI', 'GPT4All', 'GooglePalm', 'GooseAI', 'HuggingFaceEndpoint', 'HuggingFaceHub', 'HuggingFacePipeline', 'HuggingFaceTextGenInference', 'HumanInputLLM', 'LlamaCpp', 'Modal', 'MosaicML', 'NLPCloud', 'OpenAI', 'OpenAIChat', 'OpenLM', 'Petals', 'PipelineAI', 'PredictionGuard', 'PromptLayerOpenAI', 'PromptLayerOpenAIChat', 'RWKV', 'Replicate', 'SagemakerEndpoint', 'SelfHostedHuggingFaceLLM', 'SelfHostedPipeline', 'StochasticAI', 'Type', 'VertexAI', 'Writer', '__all__', '__annotations__', '__builtins__', '__cached__', '__doc__', '__file__', '__loader__', '__name__', '__package__', '__path__', '__spec__', 'ai21', 'aleph_alpha', 'anthropic', 'anyscale', 'bananadev', 'base', 'beam', 'bedrock', 'cerebriumai', 'cohere', 'ctransformers', 'databricks', 'deepinfra', 'fake', 'forefrontai', 'google_palm', 'gooseai', 'gpt4all', 'huggingface_endpoint', 'huggingface_hub', 'huggingface_pipeline', 'huggingface_text_gen_inference', 'human', 'llamacpp', 'loading', 'modal', 'mosaicml', 'nlpcloud', 'openai', 'openlm', 'petals', 'pipelineai', 'predictionguard', 'promptlayer_openai', 'replicate', 'rwkv', 'sagemaker_endpoint', 'self_hosted', 'self_hosted_hugging_face', 'stochasticai', 'type_to_cls_dict', 'utils', 'vertexai', 'writer']\n"
          ]
        }
      ]
    },
    {
      "cell_type": "code",
      "source": [
        "from langchain.agents import load_tools\n",
        "from langchain.agents import initialize_agent\n",
        "from langchain.llms import OpenAI\n",
        "from langchain.agents import AgentType\n",
        "\n",
        "# 加载 OpenAI 模型\n",
        "llm = OpenAI(temperature=0,max_tokens=2048) \n",
        "\n",
        " # 加载 serpapi 工具\n",
        "tools = load_tools([\"serpapi\"])\n",
        "\n",
        "# 如果搜索完想再计算一下可以这么写\n",
        "# tools = load_tools(['serpapi', 'llm-math'], llm=llm)\n",
        "\n",
        "# 如果搜索完想再让他再用python的print做点简单的计算，可以这样写\n",
        "# tools=load_tools([\"serpapi\",\"python_repl\"])\n",
        "\n",
        "# 工具加载后都需要初始化，verbose 参数为 True，会打印全部的执行详情\n",
        "agent = initialize_agent(tools, llm, agent=AgentType.ZERO_SHOT_REACT_DESCRIPTION, verbose=True)\n",
        "\n",
        "# 运行 agent\n",
        "agent.run(\"What's the date today? What great events have taken place today in history?\")"
      ],
      "metadata": {
        "colab": {
          "base_uri": "https://localhost:8080/",
          "height": 351
        },
        "id": "cLsC-1yfK9Dg",
        "outputId": "1293ed62-992b-4d6a-f304-68422d0bf139"
      },
      "execution_count": 15,
      "outputs": [
        {
          "output_type": "stream",
          "name": "stdout",
          "text": [
            "\n",
            "\n",
            "\u001b[1m> Entering new AgentExecutor chain...\u001b[0m\n",
            "\u001b[32;1m\u001b[1;3m I should look up the current date and then search for historical events that have taken place on that day.\n",
            "Action: Search\n",
            "Action Input: Current date\u001b[0m\n",
            "Observation: \u001b[36;1m\u001b[1;3mToday's current date and time with time zone and date picker: Select locale. en-US. Wednesday, May 31, 2023. 5:00:05 PM. PST8PDT (GMT-7).\u001b[0m\n",
            "Thought:\u001b[32;1m\u001b[1;3m I should now search for historical events that have taken place on this day.\n",
            "Action: Search\n",
            "Action Input: Historical events May 31\u001b[0m\n",
            "Observation: \u001b[36;1m\u001b[1;3m1911 – The RMS Titanic is launched in Belfast, Northern Ireland. 1911 – The President of Mexico Porfirio Díaz flees the country during the Mexican Revolution. 1916 – World War I: Battle of Jutland: The British Grand Fleet engages the High Seas Fleet in the largest naval battle of the war, which proves indecisive.\u001b[0m\n",
            "Thought:\u001b[32;1m\u001b[1;3m I now know the final answer.\n",
            "Final Answer: Today is Wednesday, May 31, 2023. Historical events that have taken place on this day include the launch of the RMS Titanic in Belfast, Northern Ireland, the flight of the President of Mexico Porfirio Díaz during the Mexican Revolution, and the Battle of Jutland in World War I.\u001b[0m\n",
            "\n",
            "\u001b[1m> Finished chain.\u001b[0m\n"
          ]
        },
        {
          "output_type": "execute_result",
          "data": {
            "text/plain": [
              "'Today is Wednesday, May 31, 2023. Historical events that have taken place on this day include the launch of the RMS Titanic in Belfast, Northern Ireland, the flight of the President of Mexico Porfirio Díaz during the Mexican Revolution, and the Battle of Jutland in World War I.'"
            ],
            "application/vnd.google.colaboratory.intrinsic+json": {
              "type": "string"
            }
          },
          "metadata": {},
          "execution_count": 15
        }
      ]
    },
    {
      "cell_type": "markdown",
      "source": [
        "我们可以看到，他正确的返回了日期（有时差），并且返回了历史上的今天。  \n",
        "\n",
        "在 chain 和 agent 对象上都会有 verbose 这个参数，这个是个非常有用的参数，开启他后我们可以看到完整的 chain 执行过程。  \n",
        "\n",
        "可以在上面返回的结果看到，他将我们的问题拆分成了几个步骤，然后一步一步得到最终的答案。\n",
        "关于agent type 几个选项的含义（理解不了也不会影响下面的学习，用多了自然理解了）：\n",
        "* zero-shot-react-description: 根据工具的描述和请求内容的来决定使用哪个工具（最常用）\n",
        "* react-docstore: 使用 ReAct 框架和 docstore 交互, 使用Search 和Lookup 工具, 前者用来搜, 后者寻找term, 举例: Wipipedia 工具\n",
        "* self-ask-with-search 此代理只使用一个工具: Intermediate Answer, 它会为问题寻找事实答案(指的非 gpt 生成的答案, 而是在网络中,文本中已存在的), 如 Google search API 工具\n",
        "* conversational-react-description: 为会话设置而设计的代理, 它的prompt会被设计的具有会话性, 且还是会使用 ReAct 框架来决定使用来个工具, 并且将过往的会话交互存入内存\n",
        "  \n",
        "    -  reAct 介绍可以看这个：https://arxiv.org/pdf/2210.03629.pdf\n",
        "    - LLM 的 ReAct 模式的 Python 实现: https://til.simonwillison.net/llms/python-react-pattern\n",
        "    - agent type 官方解释：\n",
        "https://python.langchain.com/en/latest/modules/agents/agents/agent_types.html?highlight=zero-shot-react-description\n",
        "\n",
        "有一点要说明的是，这个 serpapi 貌似对中文不是很友好，所以提问的 prompt 建议使用英文。"
      ],
      "metadata": {
        "id": "YXci7cjIMFJg"
      }
    },
    {
      "cell_type": "markdown",
      "source": [
        "![rxG07h42Yz.jpg](data:image/jpeg;base64,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)"
      ],
      "metadata": {
        "id": "8er-K6mGNPq_"
      }
    },
    {
      "cell_type": "markdown",
      "source": [
        "上面那个任务一共搜索了两次（ serpapi 一个月免费搜索100次）"
      ],
      "metadata": {
        "id": "F3UNlwNZOk-_"
      }
    },
    {
      "cell_type": "markdown",
      "source": [
        "## 对超长文本进行总结"
      ],
      "metadata": {
        "id": "s1n9QYnHOYiu"
      }
    },
    {
      "cell_type": "markdown",
      "source": [
        "假如我们想要用 openai api 对一个段文本进行总结，我们通常的做法就是直接发给 api 让他总结。但是如果文本超过了 api 最大的 token 限制就会报错。\n",
        "这时，我们一般会进行对文章进行分段，比如通过 tiktoken 计算并分割，然后将各段发送给 api 进行总结，最后将各段的总结再进行一个全部的总结。\n",
        "如果，你用是 LangChain，他很好的帮我们处理了这个过程，使得我们编写代码变的非常简单。"
      ],
      "metadata": {
        "id": "OAhQX4VCNVLA"
      }
    },
    {
      "cell_type": "code",
      "source": [
        "from langchain.document_loaders import UnstructuredFileLoader\n",
        "from langchain.chains.summarize import load_summarize_chain\n",
        "from langchain.text_splitter import RecursiveCharacterTextSplitter\n",
        "from langchain import OpenAI\n",
        "\n",
        "# 导入文本\n",
        "loader = UnstructuredFileLoader(\"/content/langchain_data/lg_test.txt\")\n",
        "# 将文本转成 Document 对象\n",
        "document = loader.load()\n",
        "print(f'documents:{len(document)}')\n",
        "\n",
        "# 初始化文本分割器\n",
        "text_splitter = RecursiveCharacterTextSplitter(\n",
        "    chunk_size = 500,\n",
        "    chunk_overlap = 0\n",
        ")\n",
        "\n",
        "# 切分文本\n",
        "split_documents = text_splitter.split_documents(document)\n",
        "print(f'documents:{len(split_documents)}')\n",
        "\n",
        "# 加载 llm 模型\n",
        "llm = OpenAI(model_name=\"text-davinci-003\", max_tokens=1500)\n",
        "\n",
        "# 创建总结链\n",
        "chain = load_summarize_chain(llm, chain_type=\"refine\", verbose=True)\n",
        "\n",
        "# 执行总结链，（为了快速演示，只总结前5段）\n",
        "chain.run(split_documents[:5])"
      ],
      "metadata": {
        "colab": {
          "base_uri": "https://localhost:8080/",
          "height": 1000
        },
        "id": "wDlT_s-5Mtay",
        "outputId": "2f1c4782-227d-4e82-cde4-6a3fe3e45174"
      },
      "execution_count": 25,
      "outputs": [
        {
          "output_type": "stream",
          "name": "stdout",
          "text": [
            "documents:1\n",
            "documents:331\n",
            "\n",
            "\n",
            "\u001b[1m> Entering new RefineDocumentsChain chain...\u001b[0m\n",
            "\n",
            "\n",
            "\u001b[1m> Entering new LLMChain chain...\u001b[0m\n",
            "Prompt after formatting:\n",
            "\u001b[32;1m\u001b[1;3mWrite a concise summary of the following:\n",
            "\n",
            "\n",
            "\"声明：本书为爱奇电子书(www.i7wu.cn)的用户上传至其在本站的存储空间，本站只提供TXT全集电子书存储服务以及免费下载服务，以下作品内容之版权与本站无任何关系。\n",
            "\n",
            "\n",
            "\n",
            "\n",
            "\n",
            "\n",
            "\n",
            "\n",
            "\n",
            "\n",
            "\n",
            "\n",
            "\n",
            "\n",
            "\n",
            "\n",
            "\n",
            "\n",
            "\n",
            "\n",
            "\n",
            "\n",
            "\n",
            "\n",
            "\n",
            "\n",
            "\n",
            "\n",
            "\n",
            "\n",
            "\n",
            "\n",
            "\n",
            "\n",
            "\n",
            "\n",
            "\n",
            "\n",
            "\n",
            "\n",
            "\n",
            "\n",
            "\n",
            "\n",
            "\n",
            "\n",
            "\n",
            "\n",
            "\n",
            "\n",
            "\n",
            "\n",
            "\n",
            "\n",
            "\n",
            "用户上传之内容开始\n",
            "\n",
            "\n",
            "\n",
            "\n",
            "\n",
            "\n",
            "\n",
            "\n",
            "\n",
            "\n",
            "\n",
            "\n",
            "\n",
            "\n",
            "\n",
            "\n",
            "\n",
            "\n",
            "\n",
            "\n",
            "\n",
            "\n",
            "\n",
            "\n",
            "\n",
            "\n",
            "\n",
            "\n",
            "\n",
            "\n",
            "\n",
            "\n",
            "\n",
            "\n",
            "\n",
            "\n",
            "\n",
            "\n",
            "\n",
            "\n",
            "\n",
            "\n",
            "\n",
            "\n",
            "\n",
            "\n",
            "\n",
            "\n",
            "\n",
            "\n",
            "\n",
            "\n",
            "\n",
            "\n",
            "\n",
            "\n",
            "\n",
            "\n",
            "\n",
            "\n",
            "\n",
            "\n",
            "\n",
            "\n",
            "\n",
            "《地藏心经》\n",
            "\n",
            "作者：铸剑师无名\n",
            "\n",
            "正文\n",
            "\n",
            "第一第十五章 天下势，渡江（一）\n",
            "\n",
            "“渝州陆家？！”\n",
            "\n",
            "虽然原本的那个秦逸，每日只知道苦读诗书，从未与商贾们打过交道，但是渝州陆家的名声，他还是知道。\n",
            "\n",
            "陆家三代为官，官至两江总督，五代经商，百年经营，家私何止千万，直至今朝，俨然已是江南一等士族大户。渝州陆氏以皮货起家，乃是西北之地数得上号的商户，西北之地所产的皮货，有三成经他们之手卖往江南。\n",
            "\n",
            "若只是如此，陆氏也不过是一头肥硕的羔羊，只待他人宰杀。\"\n",
            "\n",
            "\n",
            "CONCISE SUMMARY:\u001b[0m\n"
          ]
        },
        {
          "output_type": "stream",
          "name": "stderr",
          "text": [
            "WARNING:langchain.llms.openai:Retrying langchain.llms.openai.completion_with_retry.<locals>._completion_with_retry in 4.0 seconds as it raised RateLimitError: The server had an error while processing your request. Sorry about that!.\n",
            "WARNING:langchain.llms.openai:Retrying langchain.llms.openai.completion_with_retry.<locals>._completion_with_retry in 4.0 seconds as it raised RateLimitError: The server had an error while processing your request. Sorry about that!.\n"
          ]
        },
        {
          "output_type": "stream",
          "name": "stdout",
          "text": [
            "\n",
            "\u001b[1m> Finished chain.\u001b[0m\n",
            "\n",
            "\n",
            "\u001b[1m> Entering new LLMChain chain...\u001b[0m\n",
            "Prompt after formatting:\n",
            "\u001b[32;1m\u001b[1;3mYour job is to produce a final summary\n",
            "We have provided an existing summary up to a certain point:  这本书的内容是《地藏心经》，作者是铸剑师无名。第一第十五章讲述了渝州陆家的家族史，他们是以皮货起家的西北商户，出售江南的皮货占了三成，但他们也只是一头肥硕的羔羊，只待他人宰杀。\n",
            "We have the opportunity to refine the existing summary(only if needed) with some more context below.\n",
            "------------\n",
            "陆氏三代家主都极具雄韬伟略，以千金买官，以万金开路，更是在蛮夷南侵之时，倾尽家资招兵买马，拒十万蛮夷铁骑于侯关外，短短三年间，便一手扶持起了都护大将军——苏和，抗夷大将军——邓昌。\n",
            "\n",
            "以姻亲握住兵权后，陆氏子弟一路仕途平坦，百年来，人才辈出，更有陆云，陆羽等良将贤才。\n",
            "\n",
            "而今，已是雄踞渝、豫两地的世家阀门，这江南数万水军，便是掌握在这一代的陆家族长手中。\n",
            "\n",
            "朝廷无权，皇帝无兵，短短十年，南朝便形同虚设，各地封疆大使，世家阀门手握重兵，除了京都三省还在南朝皇族手中，其他俨然已经分地而治。\n",
            "\n",
            "西北，邓、李、苏、何、公孙五家世家阀门割据一方，联手共抗蛮夷合并后的金国。\n",
            "\n",
            "南方，陆、熊、刘、郑四家百年士族据守江南，与中山国相持已然数十载。\n",
            "\n",
            "东方，京都三省雄兵三十万，黑甲铁骑八千，时刻防范着秦国有所异动。（备注：黑甲铁骑配备长枪，马刀，黑铁重甲，所乘骑的乃是西域宛马，是南朝立国时便赫赫有名的百战铁骑。曾以八千黑甲铁骑破中山国十万雄兵而名动天下。）\n",
            "\n",
            "这些，便是张狂融合完原本那个‘秦逸’的记忆，而整理出的天下大势。\n",
            "------------\n",
            "Given the new context, refine the original summary\n",
            "If the context isn't useful, return the original summary.\u001b[0m\n",
            "\n",
            "\u001b[1m> Finished chain.\u001b[0m\n",
            "\n",
            "\n",
            "\u001b[1m> Entering new LLMChain chain...\u001b[0m\n",
            "Prompt after formatting:\n",
            "\u001b[32;1m\u001b[1;3mYour job is to produce a final summary\n",
            "We have provided an existing summary up to a certain point: \n",
            "\n",
            "这本书的内容是《地藏心经》，作者是铸剑师无名。第一第十五章讲述了渝州陆家的家族史，他们是以皮货起家的西北商户，出售江南的皮货占了三成，但他们也只是一头肥硕的羔羊，只待他人宰杀。陆氏三代家主都极具雄韬伟略，以千金买官，以万金开路，更是在蛮夷南侵之时，倾尽家资招兵买马，拒十万蛮夷铁骑于侯关外，短短三年间，便一手扶持起了都护大将军——苏和，抗夷大将军——邓昌。以姻亲握住兵权后，陆氏子弟一路仕途平坦，百年来，人才辈出，更有陆云，陆羽等良将贤才。现在，陆家族已形成了雄踞渝、豫两地的世家阀门，掌握着江南数万水军，朝廷无权，皇帝无兵，南朝形同虚设，而西北、南方、东方各地都有世家阀门割据一方，抗击蛮夷合并后的金国。\n",
            "We have the opportunity to refine the existing summary(only if needed) with some more context below.\n",
            "------------\n",
            "“少爷。这船都被陆家车行的人包下了。”\n",
            "\n",
            "不过一会儿，秦汉便略显沮丧地走了回来。渝州陆家势大，而今就连附属下面的陆家车行，身份也是水涨船高。自从秦逸父亲病逝后，秦家家道中落，与陆家比不得，况且此地也并非西北所属，秦家纵然还有些人脉，却也用不上。\n",
            "\n",
            "所以，为了避免麻烦，他也没敢去与陆家争船。\n",
            "\n",
            "“嗯。”秦逸默然，脸色平静，对着秦汉点点头，也未多说些什么。虽然他心中也想早点赶往渝州，在年关前，布置些家业，好早些安定下来。“我知道了。”\n",
            "\n",
            "“敢问公子贵姓？”\n",
            "\n",
            "这时，秦逸身旁的中年商人，突然出口问道。原来他见秦逸，wｗ W.l6Ｋ .cN面容俊逸，又是一身锦衣华服，虽然风尘仆仆，但是谈吐举止中，无一不带着士族风范，不由得起了巴结之心。\n",
            "\n",
            "南朝商人地位虽然要略高于前朝列代，但是依旧排在最后。“士农工商”，商人自古就有着“不劳而获”之名。\n",
            "------------\n",
            "Given the new context, refine the original summary\n",
            "If the context isn't useful, return the original summary.\u001b[0m\n",
            "\n",
            "\u001b[1m> Finished chain.\u001b[0m\n",
            "\n",
            "\n",
            "\u001b[1m> Entering new LLMChain chain...\u001b[0m\n",
            "Prompt after formatting:\n",
            "\u001b[32;1m\u001b[1;3mYour job is to produce a final summary\n",
            "We have provided an existing summary up to a certain point: \n",
            "\n",
            "这本书的内容是《地藏心经》，作者是铸剑师无名。第一第十五章讲述了渝州陆家的家族史，他们是以皮货起家的西北商户，出售江南的皮货占了三成，但他们也只是一头肥硕的羔羊，只待他人宰杀。陆氏三代家主都极具雄韬伟略，以千金买官，以万金开路，更是在蛮夷南侵之时，倾尽家资招兵买马，拒十万蛮夷铁骑于侯关外，短短三年间，便一手扶持起了都护大将军——苏和，抗夷大将军——邓昌。以姻亲握住兵权后，陆氏子弟一路仕途平坦，百年来，人才辈出，更有陆云，陆羽等良将贤才。现在，陆家族已形成了雄踞渝、豫两地的世家阀门，掌握着江南数万水军，朝廷无权，皇帝无兵，南朝形同虚设，而西北、南方、东方各地都有世家阀门割据一方，抗击蛮夷合并后的金国。秦家家道中落，与陆家比不得，即使有些人脉、也用不上，陆家势大，就连附属下面的陆家车行，身份也是水涨船高。 \n",
            "\n",
            "最终，陆家族已经形成了一个强大的家族阀门，掌控着江南数万水军，朝廷无权，皇帝无兵，南朝形同虚设，而西北、南方、东方各地也都有世家阀门割据一方，抗击蛮夷合并后的金国。尽管其他家族都无力抗衡陆家，但是秦家也并未被淹没，他们依旧带着士族风范，举止优雅，虽未能抗衡陆家，却也不会被压迫，最终在年关前，秦家依然布置了一些家业，安定下来。\n",
            "We have the opportunity to refine the existing summary(only if needed) with some more context below.\n",
            "------------\n",
            "“姓秦。”秦逸面色淡然，转头看了中年商人一眼，出声道。\n",
            "\n",
            "他来于后世，对商人并无轻视之意，所以也没有摆什么士族的架子。\n",
            "\n",
            "中年商人闻言微微一愣，随即动容，隐隐带着喜悦，他躬腰低头，对着秦逸恭恭敬敬地行了一个大礼，而后出声询问道：“敢问可是晋中秦家？！”\n",
            "\n",
            "“正是！”说话的确是秦汉，秦家在西北之地声名远播，善名百里，虽然手中无兵无权，但是在西北士族中还是举足轻重，俨然已成精神领袖。\n",
            "\n",
            "“敢问，可是秦逸公子？！”中年商人对着秦逸又是一个大礼，声音颇为颤抖地说道。此番回程，他便听说了秦家少爷要前往渝州，却想不到自己居然正好遇上！\n",
            "\n",
            "“五代行善，何其不易！夫天下之人，独晋中秦家也！”……\n",
            "\n",
            "秦家善名，至今已然百年有余。\n",
            "\n",
            "“嗯。”秦逸点头，并未多说。一路行来，他已经陆续感受到了秦家在这个世界上的声望。\n",
            "\n",
            "一世行善容易，但是五代行善，中原数千年来，独此一家。就连数十年前，蛮夷赫连氏族入侵中原，都刻意避开了晋中秦家。在草原蛮族的教义中，屠戮真正的善人，会被狼神抛弃，灵魂永世不得安息。\n",
            "------------\n",
            "Given the new context, refine the original summary\n",
            "If the context isn't useful, return the original summary.\u001b[0m\n"
          ]
        },
        {
          "output_type": "stream",
          "name": "stderr",
          "text": [
            "WARNING:langchain.llms.openai:Retrying langchain.llms.openai.completion_with_retry.<locals>._completion_with_retry in 4.0 seconds as it raised RateLimitError: The server had an error while processing your request. Sorry about that!.\n",
            "WARNING:langchain.llms.openai:Retrying langchain.llms.openai.completion_with_retry.<locals>._completion_with_retry in 4.0 seconds as it raised RateLimitError: The server had an error while processing your request. Sorry about that!.\n"
          ]
        },
        {
          "output_type": "stream",
          "name": "stdout",
          "text": [
            "\n",
            "\u001b[1m> Finished chain.\u001b[0m\n",
            "\n",
            "\n",
            "\u001b[1m> Entering new LLMChain chain...\u001b[0m\n",
            "Prompt after formatting:\n",
            "\u001b[32;1m\u001b[1;3mYour job is to produce a final summary\n",
            "We have provided an existing summary up to a certain point:  \n",
            "\n",
            "这本书的内容是《地藏心经》，作者是铸剑师无名。第一第十五章讲述了渝州陆家的家族史，他们是以皮货起家的西北商户，出售江南的皮货占了三成，但也只是一头肥硕的羔羊，只待他人宰杀。陆氏三代家主都极具雄韬伟略，以千金买官，以万金开路，更是在蛮夷南侵之时，倾尽家资招兵买马，拒十万蛮夷铁骑于侯关外，短短三年间，便一手扶持起了都护大将军——苏和，抗夷大将军——邓昌。以姻亲握住兵权后，陆氏子弟一路仕途平坦，百年来，人才辈出，更有陆云，陆羽等良将贤才。现在，陆家族已形成了雄踞渝、豫两地的世家阀门，掌握着江南数万水军，朝廷无权，皇帝无兵，南朝形同虚设，而西北、南方、东方各地都有世家阀门割据一方，抗击蛮夷合并后的金国，而秦家也并没有被淹没，举止优雅，虽未能抗衡陆家，但也不会被压迫，最终在年关前，秦家依然布置了一些家业，安定下来。最终，陆家族已经形成了一个强大的家族阀门，掌控着江南数万水军，朝廷无权，皇帝无兵，南朝形同虚设，而西北、南方、东方各地也都有世家阀门割据一方，抗击蛮夷合并后的金国，但是秦家也并未被淹没，他们依旧带着士族风范，举止优雅，虽未能抗衡陆家，却也不会被压迫，最终在年关前，秦家依然布置了一些家业，安定下来。\n",
            "We have the opportunity to refine the existing summary(only if needed) with some more context below.\n",
            "------------\n",
            "就在秦逸准备寻一处清净地，安安静静的等待陆家车行的人先走时，远处，一团人簇拥着一个青衫老者往这边走来。而为首的，正是昨日在路上遇到的那个满脸扎须的壮年汉子。\n",
            "\n",
            "“那便是陆家车行的管事。”一旁的中年商人适时的报出了那位青衫老者的身份。\n",
            "\n",
            "“陆氏车行？管事？”\n",
            "\n",
            "秦逸眉头一挑，不由得心头一动。若是等到陆家车行货物运完，这一来一去，天怕是已经摸黑了，想来渡江只能等到明晚。既然面前，就是陆家车行的管事，何不找他试试，看看能不能一并登船渡江。\n",
            "\n",
            "想到这，秦逸略微整了整衣衫，脸上挂着一副淡定的笑容，迎了上去。\n",
            "\n",
            "“长者有礼了！”秦逸走到人群前，对着为首的青衫老者微微一拱手，行礼道。\n",
            "------------\n",
            "Given the new context, refine the original summary\n",
            "If the context isn't useful, return the original summary.\u001b[0m\n"
          ]
        },
        {
          "output_type": "stream",
          "name": "stderr",
          "text": [
            "WARNING:langchain.llms.openai:Retrying langchain.llms.openai.completion_with_retry.<locals>._completion_with_retry in 4.0 seconds as it raised RateLimitError: The server had an error while processing your request. Sorry about that!.\n",
            "WARNING:langchain.llms.openai:Retrying langchain.llms.openai.completion_with_retry.<locals>._completion_with_retry in 4.0 seconds as it raised RateLimitError: The server had an error while processing your request. Sorry about that!.\n"
          ]
        },
        {
          "output_type": "stream",
          "name": "stdout",
          "text": [
            "\n",
            "\u001b[1m> Finished chain.\u001b[0m\n",
            "\n",
            "\u001b[1m> Finished chain.\u001b[0m\n"
          ]
        },
        {
          "output_type": "execute_result",
          "data": {
            "text/plain": [
              "'\\n\\n这本书的内容是《地藏心经》，作者是铸剑师无名。第一第十五章讲述了渝州陆家的家族史，他们是以皮货起家的西北商户，出售江南的皮货占了三成，但也只是一头肥硕的羔羊，只待他人宰杀。陆氏三代家主都极具雄韬伟略，以千金买官，以万金开路，更是在蛮夷南侵之时，倾尽家资招兵买马，拒十万蛮夷铁骑于侯关外。经过百年来的积累，陆家族已形成了雄踞渝、豫两地的世家阀门，掌握着江南数万水军，朝廷无权，皇帝无兵，南朝形同虚设，而西北、南方、东方各地也都有世家阀门割据一方，抗击蛮夷合并后的金国，但是秦家也并未被淹没，他们依旧带着士族风范，举止优雅，虽未能抗衡陆家，却也不会被压迫，最终在年关前，秦家依然布置了一些家业，安定下来。本书讲述了陆家的家族史，他们以皮货起家，凭借着雄韬伟略的家主们，百年来积累而形成的雄踞渝、豫两地的世家阀门，掌握着江南数万水军，朝廷无权，皇帝无兵，南朝形同虚设，而西北、南方、东方各地也都有世家阀门割据一方，抗击蛮夷合并后的金国。尽管秦家无法抗衡陆家，他们仍然不会被压迫，在年关前，他们也布置了一些家业，安定下来。'"
            ],
            "application/vnd.google.colaboratory.intrinsic+json": {
              "type": "string"
            }
          },
          "metadata": {},
          "execution_count": 25
        }
      ]
    },
    {
      "cell_type": "markdown",
      "source": [
        "首先我们对切割前和切割后的 document 个数进行了打印，我们可以看到，切割前就是只有整篇的一个 document，切割完成后，会把上面一个 document 切成 331 个 document。"
      ],
      "metadata": {
        "id": "u5a7dtaLUDDt"
      }
    },
    {
      "cell_type": "markdown",
      "source": [
        "最终输出了对前 5 个 document 的总结:"
      ],
      "metadata": {
        "id": "gW-fWQhUULQG"
      }
    },
    {
      "cell_type": "markdown",
      "source": [
        "\n",
        "\n",
        "这本书的内容是《地藏心经》，作者是铸剑师无名。第一第十五章讲述了渝州陆家的家族史，他们是以皮货起家的西北商户，出售江南的皮货占了三成，但也只是一头肥硕的羔羊，只待他人宰杀。陆氏三代家主都极具雄韬伟略，以千金买官，以万金开路，更是在蛮夷南侵之时，倾尽家资招兵买马，拒十万蛮夷铁骑于侯关外。经过百年来的积累，陆家族已形成了雄踞渝、豫两地的世家阀门，掌握着江南数万水军，朝廷无权，皇帝无兵，南朝形同虚设，而西北、南方、东方各地也都有世家阀门割据一方，抗击蛮夷合并后的金国，但是秦家也并未被淹没，他们依旧带着士族风范，举止优雅，虽未能抗衡陆家，却也不会被压迫，最终在年关前，秦家依然布置了一些家业，安定下来。本书讲述了陆家的家族史，他们以皮货起家，凭借着雄韬伟略的家主们，百年来积累而形成的雄踞渝、豫两地的世家阀门，掌握着江南数万水军，朝廷无权，皇帝无兵，南朝形同虚设，而西北、南方、东方各地也都有世家阀门割据一方，抗击蛮夷合并后的金国。尽管秦家无法抗衡陆家，他们仍然不会被压迫，在年关前，他们也布置了一些家业，安定下来。"
      ],
      "metadata": {
        "id": "Gy66OJOkUS-0"
      }
    },
    {
      "cell_type": "markdown",
      "source": [
        "#### 几个参数需要注意："
      ],
      "metadata": {
        "id": "F4jwIbItU3Tk"
      }
    },
    {
      "cell_type": "markdown",
      "source": [
        "**文本分割器的 chunk_overlap 参数**"
      ],
      "metadata": {
        "id": "DASMQeYrU5x8"
      }
    },
    {
      "cell_type": "markdown",
      "source": [
        "这个是指切割后的每个 document 里包含几个上一个 document 结尾的内容，主要作用是为了增加每个 document 的上下文关联。比如，chunk_overlap=0时， 第一个 document 为 aaaaaa，第二个为 bbbbbb；当 chunk_overlap=2 时，第一个 document 为 aaaaaa，第二个为 aabbbbbb。\n",
        "不过，这个也不是绝对的，要看所使用的那个文本分割模型内部的具体算法。"
      ],
      "metadata": {
        "id": "ffyH40ndU8N0"
      }
    },
    {
      "cell_type": "markdown",
      "source": [
        " * 文本分割器可以参考这个文档：https://python.langchain.com/en/latest/modules/indexes/text_splitters.html"
      ],
      "metadata": {
        "id": "RGUZY5s6VOIc"
      }
    },
    {
      "cell_type": "markdown",
      "source": [
        "**chain 的 chain_type 参数**"
      ],
      "metadata": {
        "id": "X7S1a59zVW-M"
      }
    },
    {
      "cell_type": "markdown",
      "source": [
        "这个参数主要控制了将 document 传递给 llm 模型的方式，一共有 4 种方式：\n",
        "\n",
        "\n",
        "*  stuff: 这种最简单粗暴，会把所有的 document 一次全部传给 llm 模型进行总结。如果document很多的话，势必会报超出最大 token 限制的错，所以总结文本的时候一般不会选中这个。\n",
        "*   map_reduce: 这个方式会先将每个 document 进行总结，最后将所有 document 总结出的结果再进行一次总结。\n",
        "\n",
        "\n"
      ],
      "metadata": {
        "id": "bUZaHMIJVhV0"
      }
    },
    {
      "cell_type": "markdown",
      "source": [
        "![image.png](data:image/png;base64,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)"
      ],
      "metadata": {
        "id": "rjd1j6bPVo5D"
      }
    },
    {
      "cell_type": "markdown",
      "source": [
        " *  refine: 这种方式会先总结第一个 document，然后在将第一个 document 总结出的内容和第二个 document 一起发给 llm 模型在进行总结，以此类推。这种方式的好处就是在总结后一个 document 的时候，会带着前一个的 document 进行总结，给需要总结的 document 添加了上下文，增加了总结内容的连贯性。"
      ],
      "metadata": {
        "id": "7U7hzaONVv4M"
      }
    },
    {
      "cell_type": "markdown",
      "source": [
        "![image.png](data:image/png;base64,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)"
      ],
      "metadata": {
        "id": "Z3DDzJ9HV2Ur"
      }
    },
    {
      "cell_type": "markdown",
      "source": [
        "* map_rerank: 这种一般不会用在总结的 chain 上，而是会用在问答的 chain 上，他其实是一种搜索答案的匹配方式。首先你要给出一个问题，他会根据问题给每个 document 计算一个这个 document 能回答这个问题的概率分数，然后找到分数最高的那个 document ，在通过把这个 document 转化为问题的 prompt 的一部分（问题+document）发送给 llm 模型，最后 llm 模型返回具体答案。"
      ],
      "metadata": {
        "id": "WMXgFtInV4gT"
      }
    },
    {
      "cell_type": "code",
      "source": [],
      "metadata": {
        "id": "2-RwCRBJSDAu"
      },
      "execution_count": null,
      "outputs": []
    }
  ]
}